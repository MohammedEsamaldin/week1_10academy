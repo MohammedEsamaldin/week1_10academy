{
  "nbformat": 4,
  "nbformat_minor": 0,
  "metadata": {
    "colab": {
      "name": "User Engagement analysis.ipynb",
      "provenance": [],
      "collapsed_sections": [],
      "mount_file_id": "16fwU2UVXYtAb4hxFTlzNn95o51RHltJA",
      "authorship_tag": "ABX9TyOfLrGviLMLpGjLUtftiKJK",
      "include_colab_link": true
    },
    "kernelspec": {
      "name": "python3",
      "display_name": "Python 3"
    },
    "language_info": {
      "name": "python"
    }
  },
  "cells": [
    {
      "cell_type": "markdown",
      "metadata": {
        "id": "view-in-github",
        "colab_type": "text"
      },
      "source": [
        "<a href=\"https://colab.research.google.com/github/MohammedEsamaldin/week1_10academy/blob/main/notebook/User_Engagement_analysis.ipynb\" target=\"_parent\"><img src=\"https://colab.research.google.com/assets/colab-badge.svg\" alt=\"Open In Colab\"/></a>"
      ]
    },
    {
      "cell_type": "code",
      "execution_count": 47,
      "metadata": {
        "id": "ZFtvLpl_m0vj"
      },
      "outputs": [],
      "source": [
        "import pandas as pd\n",
        "import numpy as np\n",
        "from IPython.display import Image\n",
        "import matplotlib.pyplot as plt"
      ]
    },
    {
      "cell_type": "code",
      "source": [
        "db = pd.read_csv('/content/drive/MyDrive/Week-1/data/Week1_challenge_data_source(CSV).csv',  na_values=['?', None])\n",
        "db.head()\n"
      ],
      "metadata": {
        "colab": {
          "base_uri": "https://localhost:8080/",
          "height": 421
        },
        "id": "f9zJmsgYm3M1",
        "outputId": "e4ca5699-f19c-4ddf-910e-6ec982f301b9"
      },
      "execution_count": 48,
      "outputs": [
        {
          "output_type": "execute_result",
          "data": {
            "text/plain": [
              "      Bearer Id            Start  Start ms              End  End ms  \\\n",
              "0  1.311448e+19   4/4/2019 12:01     770.0  4/25/2019 14:35   662.0   \n",
              "1  1.311448e+19   4/9/2019 13:04     235.0   4/25/2019 8:15   606.0   \n",
              "2  1.311448e+19   4/9/2019 17:42       1.0  4/25/2019 11:58   652.0   \n",
              "3  1.311448e+19   4/10/2019 0:31     486.0   4/25/2019 7:36   171.0   \n",
              "4  1.311448e+19  4/12/2019 20:10     565.0  4/25/2019 10:40   954.0   \n",
              "\n",
              "   Dur. (ms)          IMSI  MSISDN/Number          IMEI  \\\n",
              "0  1823652.0  2.082014e+14   3.366496e+10  3.552121e+13   \n",
              "1  1365104.0  2.082019e+14   3.368185e+10  3.579401e+13   \n",
              "2  1361762.0  2.082003e+14   3.376063e+10  3.528151e+13   \n",
              "3  1321509.0  2.082014e+14   3.375034e+10  3.535661e+13   \n",
              "4  1089009.0  2.082014e+14   3.369980e+10  3.540701e+13   \n",
              "\n",
              "      Last Location Name  ...  Youtube DL (Bytes)  Youtube UL (Bytes)  \\\n",
              "0  9.16456699548519E+015  ...          15854611.0           2501332.0   \n",
              "1                L77566A  ...          20247395.0          19111729.0   \n",
              "2                D42335A  ...          19725661.0          14699576.0   \n",
              "3                T21824A  ...          21388122.0          15146643.0   \n",
              "4                D88865A  ...          15259380.0          18962873.0   \n",
              "\n",
              "   Netflix DL (Bytes)  Netflix UL (Bytes)  Gaming DL (Bytes)  \\\n",
              "0           8198936.0           9656251.0        278082303.0   \n",
              "1          18338413.0          17227132.0        608750074.0   \n",
              "2          17587794.0           6163408.0        229584621.0   \n",
              "3          13994646.0           1097942.0        799538153.0   \n",
              "4          17124581.0            415218.0        527707248.0   \n",
              "\n",
              "   Gaming UL (Bytes)  Other DL (Bytes)  Other UL (Bytes)  Total UL (Bytes)  \\\n",
              "0         14344150.0       171744450.0         8814393.0        36749741.0   \n",
              "1          1170709.0       526904238.0        15055145.0        53800391.0   \n",
              "2           395630.0       410692588.0         4215763.0        27883638.0   \n",
              "3         10849722.0       749039933.0        12797283.0        43324218.0   \n",
              "4          3529801.0       550709500.0        13910322.0        38542814.0   \n",
              "\n",
              "   Total DL (Bytes)  \n",
              "0       308879636.0  \n",
              "1       653384965.0  \n",
              "2       279807335.0  \n",
              "3       846028530.0  \n",
              "4       569138589.0  \n",
              "\n",
              "[5 rows x 55 columns]"
            ],
            "text/html": [
              "\n",
              "  <div id=\"df-b1e113fd-5258-4c6f-a196-f5e244092953\">\n",
              "    <div class=\"colab-df-container\">\n",
              "      <div>\n",
              "<style scoped>\n",
              "    .dataframe tbody tr th:only-of-type {\n",
              "        vertical-align: middle;\n",
              "    }\n",
              "\n",
              "    .dataframe tbody tr th {\n",
              "        vertical-align: top;\n",
              "    }\n",
              "\n",
              "    .dataframe thead th {\n",
              "        text-align: right;\n",
              "    }\n",
              "</style>\n",
              "<table border=\"1\" class=\"dataframe\">\n",
              "  <thead>\n",
              "    <tr style=\"text-align: right;\">\n",
              "      <th></th>\n",
              "      <th>Bearer Id</th>\n",
              "      <th>Start</th>\n",
              "      <th>Start ms</th>\n",
              "      <th>End</th>\n",
              "      <th>End ms</th>\n",
              "      <th>Dur. (ms)</th>\n",
              "      <th>IMSI</th>\n",
              "      <th>MSISDN/Number</th>\n",
              "      <th>IMEI</th>\n",
              "      <th>Last Location Name</th>\n",
              "      <th>...</th>\n",
              "      <th>Youtube DL (Bytes)</th>\n",
              "      <th>Youtube UL (Bytes)</th>\n",
              "      <th>Netflix DL (Bytes)</th>\n",
              "      <th>Netflix UL (Bytes)</th>\n",
              "      <th>Gaming DL (Bytes)</th>\n",
              "      <th>Gaming UL (Bytes)</th>\n",
              "      <th>Other DL (Bytes)</th>\n",
              "      <th>Other UL (Bytes)</th>\n",
              "      <th>Total UL (Bytes)</th>\n",
              "      <th>Total DL (Bytes)</th>\n",
              "    </tr>\n",
              "  </thead>\n",
              "  <tbody>\n",
              "    <tr>\n",
              "      <th>0</th>\n",
              "      <td>1.311448e+19</td>\n",
              "      <td>4/4/2019 12:01</td>\n",
              "      <td>770.0</td>\n",
              "      <td>4/25/2019 14:35</td>\n",
              "      <td>662.0</td>\n",
              "      <td>1823652.0</td>\n",
              "      <td>2.082014e+14</td>\n",
              "      <td>3.366496e+10</td>\n",
              "      <td>3.552121e+13</td>\n",
              "      <td>9.16456699548519E+015</td>\n",
              "      <td>...</td>\n",
              "      <td>15854611.0</td>\n",
              "      <td>2501332.0</td>\n",
              "      <td>8198936.0</td>\n",
              "      <td>9656251.0</td>\n",
              "      <td>278082303.0</td>\n",
              "      <td>14344150.0</td>\n",
              "      <td>171744450.0</td>\n",
              "      <td>8814393.0</td>\n",
              "      <td>36749741.0</td>\n",
              "      <td>308879636.0</td>\n",
              "    </tr>\n",
              "    <tr>\n",
              "      <th>1</th>\n",
              "      <td>1.311448e+19</td>\n",
              "      <td>4/9/2019 13:04</td>\n",
              "      <td>235.0</td>\n",
              "      <td>4/25/2019 8:15</td>\n",
              "      <td>606.0</td>\n",
              "      <td>1365104.0</td>\n",
              "      <td>2.082019e+14</td>\n",
              "      <td>3.368185e+10</td>\n",
              "      <td>3.579401e+13</td>\n",
              "      <td>L77566A</td>\n",
              "      <td>...</td>\n",
              "      <td>20247395.0</td>\n",
              "      <td>19111729.0</td>\n",
              "      <td>18338413.0</td>\n",
              "      <td>17227132.0</td>\n",
              "      <td>608750074.0</td>\n",
              "      <td>1170709.0</td>\n",
              "      <td>526904238.0</td>\n",
              "      <td>15055145.0</td>\n",
              "      <td>53800391.0</td>\n",
              "      <td>653384965.0</td>\n",
              "    </tr>\n",
              "    <tr>\n",
              "      <th>2</th>\n",
              "      <td>1.311448e+19</td>\n",
              "      <td>4/9/2019 17:42</td>\n",
              "      <td>1.0</td>\n",
              "      <td>4/25/2019 11:58</td>\n",
              "      <td>652.0</td>\n",
              "      <td>1361762.0</td>\n",
              "      <td>2.082003e+14</td>\n",
              "      <td>3.376063e+10</td>\n",
              "      <td>3.528151e+13</td>\n",
              "      <td>D42335A</td>\n",
              "      <td>...</td>\n",
              "      <td>19725661.0</td>\n",
              "      <td>14699576.0</td>\n",
              "      <td>17587794.0</td>\n",
              "      <td>6163408.0</td>\n",
              "      <td>229584621.0</td>\n",
              "      <td>395630.0</td>\n",
              "      <td>410692588.0</td>\n",
              "      <td>4215763.0</td>\n",
              "      <td>27883638.0</td>\n",
              "      <td>279807335.0</td>\n",
              "    </tr>\n",
              "    <tr>\n",
              "      <th>3</th>\n",
              "      <td>1.311448e+19</td>\n",
              "      <td>4/10/2019 0:31</td>\n",
              "      <td>486.0</td>\n",
              "      <td>4/25/2019 7:36</td>\n",
              "      <td>171.0</td>\n",
              "      <td>1321509.0</td>\n",
              "      <td>2.082014e+14</td>\n",
              "      <td>3.375034e+10</td>\n",
              "      <td>3.535661e+13</td>\n",
              "      <td>T21824A</td>\n",
              "      <td>...</td>\n",
              "      <td>21388122.0</td>\n",
              "      <td>15146643.0</td>\n",
              "      <td>13994646.0</td>\n",
              "      <td>1097942.0</td>\n",
              "      <td>799538153.0</td>\n",
              "      <td>10849722.0</td>\n",
              "      <td>749039933.0</td>\n",
              "      <td>12797283.0</td>\n",
              "      <td>43324218.0</td>\n",
              "      <td>846028530.0</td>\n",
              "    </tr>\n",
              "    <tr>\n",
              "      <th>4</th>\n",
              "      <td>1.311448e+19</td>\n",
              "      <td>4/12/2019 20:10</td>\n",
              "      <td>565.0</td>\n",
              "      <td>4/25/2019 10:40</td>\n",
              "      <td>954.0</td>\n",
              "      <td>1089009.0</td>\n",
              "      <td>2.082014e+14</td>\n",
              "      <td>3.369980e+10</td>\n",
              "      <td>3.540701e+13</td>\n",
              "      <td>D88865A</td>\n",
              "      <td>...</td>\n",
              "      <td>15259380.0</td>\n",
              "      <td>18962873.0</td>\n",
              "      <td>17124581.0</td>\n",
              "      <td>415218.0</td>\n",
              "      <td>527707248.0</td>\n",
              "      <td>3529801.0</td>\n",
              "      <td>550709500.0</td>\n",
              "      <td>13910322.0</td>\n",
              "      <td>38542814.0</td>\n",
              "      <td>569138589.0</td>\n",
              "    </tr>\n",
              "  </tbody>\n",
              "</table>\n",
              "<p>5 rows × 55 columns</p>\n",
              "</div>\n",
              "      <button class=\"colab-df-convert\" onclick=\"convertToInteractive('df-b1e113fd-5258-4c6f-a196-f5e244092953')\"\n",
              "              title=\"Convert this dataframe to an interactive table.\"\n",
              "              style=\"display:none;\">\n",
              "        \n",
              "  <svg xmlns=\"http://www.w3.org/2000/svg\" height=\"24px\"viewBox=\"0 0 24 24\"\n",
              "       width=\"24px\">\n",
              "    <path d=\"M0 0h24v24H0V0z\" fill=\"none\"/>\n",
              "    <path d=\"M18.56 5.44l.94 2.06.94-2.06 2.06-.94-2.06-.94-.94-2.06-.94 2.06-2.06.94zm-11 1L8.5 8.5l.94-2.06 2.06-.94-2.06-.94L8.5 2.5l-.94 2.06-2.06.94zm10 10l.94 2.06.94-2.06 2.06-.94-2.06-.94-.94-2.06-.94 2.06-2.06.94z\"/><path d=\"M17.41 7.96l-1.37-1.37c-.4-.4-.92-.59-1.43-.59-.52 0-1.04.2-1.43.59L10.3 9.45l-7.72 7.72c-.78.78-.78 2.05 0 2.83L4 21.41c.39.39.9.59 1.41.59.51 0 1.02-.2 1.41-.59l7.78-7.78 2.81-2.81c.8-.78.8-2.07 0-2.86zM5.41 20L4 18.59l7.72-7.72 1.47 1.35L5.41 20z\"/>\n",
              "  </svg>\n",
              "      </button>\n",
              "      \n",
              "  <style>\n",
              "    .colab-df-container {\n",
              "      display:flex;\n",
              "      flex-wrap:wrap;\n",
              "      gap: 12px;\n",
              "    }\n",
              "\n",
              "    .colab-df-convert {\n",
              "      background-color: #E8F0FE;\n",
              "      border: none;\n",
              "      border-radius: 50%;\n",
              "      cursor: pointer;\n",
              "      display: none;\n",
              "      fill: #1967D2;\n",
              "      height: 32px;\n",
              "      padding: 0 0 0 0;\n",
              "      width: 32px;\n",
              "    }\n",
              "\n",
              "    .colab-df-convert:hover {\n",
              "      background-color: #E2EBFA;\n",
              "      box-shadow: 0px 1px 2px rgba(60, 64, 67, 0.3), 0px 1px 3px 1px rgba(60, 64, 67, 0.15);\n",
              "      fill: #174EA6;\n",
              "    }\n",
              "\n",
              "    [theme=dark] .colab-df-convert {\n",
              "      background-color: #3B4455;\n",
              "      fill: #D2E3FC;\n",
              "    }\n",
              "\n",
              "    [theme=dark] .colab-df-convert:hover {\n",
              "      background-color: #434B5C;\n",
              "      box-shadow: 0px 1px 3px 1px rgba(0, 0, 0, 0.15);\n",
              "      filter: drop-shadow(0px 1px 2px rgba(0, 0, 0, 0.3));\n",
              "      fill: #FFFFFF;\n",
              "    }\n",
              "  </style>\n",
              "\n",
              "      <script>\n",
              "        const buttonEl =\n",
              "          document.querySelector('#df-b1e113fd-5258-4c6f-a196-f5e244092953 button.colab-df-convert');\n",
              "        buttonEl.style.display =\n",
              "          google.colab.kernel.accessAllowed ? 'block' : 'none';\n",
              "\n",
              "        async function convertToInteractive(key) {\n",
              "          const element = document.querySelector('#df-b1e113fd-5258-4c6f-a196-f5e244092953');\n",
              "          const dataTable =\n",
              "            await google.colab.kernel.invokeFunction('convertToInteractive',\n",
              "                                                     [key], {});\n",
              "          if (!dataTable) return;\n",
              "\n",
              "          const docLinkHtml = 'Like what you see? Visit the ' +\n",
              "            '<a target=\"_blank\" href=https://colab.research.google.com/notebooks/data_table.ipynb>data table notebook</a>'\n",
              "            + ' to learn more about interactive tables.';\n",
              "          element.innerHTML = '';\n",
              "          dataTable['output_type'] = 'display_data';\n",
              "          await google.colab.output.renderOutput(dataTable, element);\n",
              "          const docLink = document.createElement('div');\n",
              "          docLink.innerHTML = docLinkHtml;\n",
              "          element.appendChild(docLink);\n",
              "        }\n",
              "      </script>\n",
              "    </div>\n",
              "  </div>\n",
              "  "
            ]
          },
          "metadata": {},
          "execution_count": 48
        }
      ]
    },
    {
      "cell_type": "code",
      "source": [
        "def fix_missing_mode(df, col):\n",
        "    df[col] = df[col].fillna(df[col].mode()[0])\n",
        "    return df[col]\n"
      ],
      "metadata": {
        "id": "_awJpqKnnHfP"
      },
      "execution_count": 49,
      "outputs": []
    },
    {
      "cell_type": "code",
      "execution_count": 50,
      "metadata": {
        "colab": {
          "base_uri": "https://localhost:8080/"
        },
        "id": "nQkJdiacM9vN",
        "outputId": "5804321c-c23a-4d2e-d3ed-b4cdc8d18a6f"
      },
      "outputs": [
        {
          "output_type": "execute_result",
          "data": {
            "text/plain": [
              "Bearer Id                                   991\n",
              "Start                                         1\n",
              "Start ms                                      1\n",
              "End                                           1\n",
              "End ms                                        1\n",
              "Dur. (ms)                                     0\n",
              "IMSI                                          0\n",
              "MSISDN/Number                                 0\n",
              "IMEI                                          0\n",
              "Last Location Name                            0\n",
              "Avg RTT DL (ms)                               0\n",
              "Avg RTT UL (ms)                               0\n",
              "Avg Bearer TP DL (kbps)                       0\n",
              "Avg Bearer TP UL (kbps)                       0\n",
              "TCP DL Retrans. Vol (Bytes)                   0\n",
              "TCP UL Retrans. Vol (Bytes)                   0\n",
              "DL TP < 50 Kbps (%)                           0\n",
              "50 Kbps < DL TP < 250 Kbps (%)                0\n",
              "250 Kbps < DL TP < 1 Mbps (%)                 0\n",
              "DL TP > 1 Mbps (%)                            0\n",
              "UL TP < 10 Kbps (%)                           0\n",
              "10 Kbps < UL TP < 50 Kbps (%)                 0\n",
              "50 Kbps < UL TP < 300 Kbps (%)                0\n",
              "UL TP > 300 Kbps (%)                          0\n",
              "HTTP DL (Bytes)                               0\n",
              "HTTP UL (Bytes)                               0\n",
              "Activity Duration DL (ms)                     0\n",
              "Activity Duration UL (ms)                     0\n",
              "Dur. (ms).1                                   0\n",
              "Handset Manufacturer                          0\n",
              "Handset Type                                  0\n",
              "Nb of sec with 125000B < Vol DL               0\n",
              "Nb of sec with 1250B < Vol UL < 6250B         0\n",
              "Nb of sec with 31250B < Vol DL < 125000B      0\n",
              "Nb of sec with 37500B < Vol UL                0\n",
              "Nb of sec with 6250B < Vol DL < 31250B        0\n",
              "Nb of sec with 6250B < Vol UL < 37500B        0\n",
              "Nb of sec with Vol DL < 6250B                 0\n",
              "Nb of sec with Vol UL < 1250B                 0\n",
              "Social Media DL (Bytes)                       0\n",
              "Social Media UL (Bytes)                       0\n",
              "Google DL (Bytes)                             0\n",
              "Google UL (Bytes)                             0\n",
              "Email DL (Bytes)                              0\n",
              "Email UL (Bytes)                              0\n",
              "Youtube DL (Bytes)                            0\n",
              "Youtube UL (Bytes)                            0\n",
              "Netflix DL (Bytes)                            0\n",
              "Netflix UL (Bytes)                            0\n",
              "Gaming DL (Bytes)                             0\n",
              "Gaming UL (Bytes)                             0\n",
              "Other DL (Bytes)                              0\n",
              "Other UL (Bytes)                              0\n",
              "Total UL (Bytes)                              1\n",
              "Total DL (Bytes)                              1\n",
              "dtype: int64"
            ]
          },
          "metadata": {},
          "execution_count": 50
        }
      ],
      "source": [
        "list_col = ['Dur. (ms)',\n",
        " 'IMSI',\n",
        " 'MSISDN/Number',\n",
        " 'IMEI',\n",
        " 'Last Location Name',\n",
        " 'Avg RTT DL (ms)',\n",
        " 'Avg RTT UL (ms)',\n",
        " 'Avg Bearer TP DL (kbps)',\n",
        " 'Avg Bearer TP UL (kbps)',\n",
        " 'TCP DL Retrans. Vol (Bytes)',\n",
        " 'TCP UL Retrans. Vol (Bytes)',\n",
        " 'DL TP < 50 Kbps (%)',\n",
        " '50 Kbps < DL TP < 250 Kbps (%)',\n",
        " '250 Kbps < DL TP < 1 Mbps (%)',\n",
        " 'DL TP > 1 Mbps (%)',\n",
        " 'UL TP < 10 Kbps (%)',\n",
        " '10 Kbps < UL TP < 50 Kbps (%)',\n",
        " '50 Kbps < UL TP < 300 Kbps (%)',\n",
        " 'UL TP > 300 Kbps (%)',\n",
        " 'HTTP DL (Bytes)',\n",
        " 'HTTP UL (Bytes)',\n",
        " 'Activity Duration DL (ms)',\n",
        " 'Activity Duration UL (ms)',\n",
        " 'Dur. (ms).1',\n",
        " 'Handset Manufacturer',\n",
        " 'Handset Type',\n",
        " 'Nb of sec with 125000B < Vol DL',\n",
        " 'Nb of sec with 1250B < Vol UL < 6250B',\n",
        " 'Nb of sec with 31250B < Vol DL < 125000B',\n",
        " 'Nb of sec with 37500B < Vol UL',\n",
        " 'Nb of sec with 6250B < Vol DL < 31250B',\n",
        " 'Nb of sec with 6250B < Vol UL < 37500B',\n",
        " 'Nb of sec with Vol DL < 6250B',\n",
        " 'Nb of sec with Vol UL < 1250B']\n",
        "for i in list_col:\n",
        "    fix_missing_mode(db, i)\n",
        "\n",
        "db.isnull().sum()"
      ]
    },
    {
      "cell_type": "code",
      "source": [
        "db = db.dropna()"
      ],
      "metadata": {
        "id": "6TyEUlEonImr"
      },
      "execution_count": 51,
      "outputs": []
    },
    {
      "cell_type": "code",
      "source": [
        "df = db\n",
        "df.columns"
      ],
      "metadata": {
        "colab": {
          "base_uri": "https://localhost:8080/"
        },
        "id": "ZaZU1UvxnIpu",
        "outputId": "641cba6e-f850-462b-ffa0-05dcc4382705"
      },
      "execution_count": 52,
      "outputs": [
        {
          "output_type": "execute_result",
          "data": {
            "text/plain": [
              "Index(['Bearer Id', 'Start', 'Start ms', 'End', 'End ms', 'Dur. (ms)', 'IMSI',\n",
              "       'MSISDN/Number', 'IMEI', 'Last Location Name', 'Avg RTT DL (ms)',\n",
              "       'Avg RTT UL (ms)', 'Avg Bearer TP DL (kbps)', 'Avg Bearer TP UL (kbps)',\n",
              "       'TCP DL Retrans. Vol (Bytes)', 'TCP UL Retrans. Vol (Bytes)',\n",
              "       'DL TP < 50 Kbps (%)', '50 Kbps < DL TP < 250 Kbps (%)',\n",
              "       '250 Kbps < DL TP < 1 Mbps (%)', 'DL TP > 1 Mbps (%)',\n",
              "       'UL TP < 10 Kbps (%)', '10 Kbps < UL TP < 50 Kbps (%)',\n",
              "       '50 Kbps < UL TP < 300 Kbps (%)', 'UL TP > 300 Kbps (%)',\n",
              "       'HTTP DL (Bytes)', 'HTTP UL (Bytes)', 'Activity Duration DL (ms)',\n",
              "       'Activity Duration UL (ms)', 'Dur. (ms).1', 'Handset Manufacturer',\n",
              "       'Handset Type', 'Nb of sec with 125000B < Vol DL',\n",
              "       'Nb of sec with 1250B < Vol UL < 6250B',\n",
              "       'Nb of sec with 31250B < Vol DL < 125000B',\n",
              "       'Nb of sec with 37500B < Vol UL',\n",
              "       'Nb of sec with 6250B < Vol DL < 31250B',\n",
              "       'Nb of sec with 6250B < Vol UL < 37500B',\n",
              "       'Nb of sec with Vol DL < 6250B', 'Nb of sec with Vol UL < 1250B',\n",
              "       'Social Media DL (Bytes)', 'Social Media UL (Bytes)',\n",
              "       'Google DL (Bytes)', 'Google UL (Bytes)', 'Email DL (Bytes)',\n",
              "       'Email UL (Bytes)', 'Youtube DL (Bytes)', 'Youtube UL (Bytes)',\n",
              "       'Netflix DL (Bytes)', 'Netflix UL (Bytes)', 'Gaming DL (Bytes)',\n",
              "       'Gaming UL (Bytes)', 'Other DL (Bytes)', 'Other UL (Bytes)',\n",
              "       'Total UL (Bytes)', 'Total DL (Bytes)'],\n",
              "      dtype='object')"
            ]
          },
          "metadata": {},
          "execution_count": 52
        }
      ]
    },
    {
      "cell_type": "code",
      "source": [
        "df['total DL/UL traffic']= df['Total DL (Bytes)']+df['Total UL (Bytes)']\n",
        "df['total DL/UL traffic'].head(0)"
      ],
      "metadata": {
        "id": "ymJYYJOHUrjI",
        "colab": {
          "base_uri": "https://localhost:8080/"
        },
        "outputId": "cb596067-c594-4cbc-a098-a0b5abf7e229"
      },
      "execution_count": 53,
      "outputs": [
        {
          "output_type": "stream",
          "name": "stderr",
          "text": [
            "/usr/local/lib/python3.7/dist-packages/ipykernel_launcher.py:1: SettingWithCopyWarning: \n",
            "A value is trying to be set on a copy of a slice from a DataFrame.\n",
            "Try using .loc[row_indexer,col_indexer] = value instead\n",
            "\n",
            "See the caveats in the documentation: https://pandas.pydata.org/pandas-docs/stable/user_guide/indexing.html#returning-a-view-versus-a-copy\n",
            "  \"\"\"Entry point for launching an IPython kernel.\n"
          ]
        },
        {
          "output_type": "execute_result",
          "data": {
            "text/plain": [
              "Series([], Name: total DL/UL traffic, dtype: float64)"
            ]
          },
          "metadata": {},
          "execution_count": 53
        }
      ]
    },
    {
      "cell_type": "code",
      "source": [
        "df['Handset Type'].value_counts().head(10)"
      ],
      "metadata": {
        "colab": {
          "base_uri": "https://localhost:8080/"
        },
        "id": "h2FFgd_EnItZ",
        "outputId": "8a01b31e-c964-481b-b710-c5a6437c0a86"
      },
      "execution_count": 54,
      "outputs": [
        {
          "output_type": "execute_result",
          "data": {
            "text/plain": [
              "Huawei B528S-23A                19763\n",
              "Apple iPhone 6S (A1688)          9401\n",
              "Apple iPhone 6 (A1586)           9004\n",
              "undefined                        8960\n",
              "Apple iPhone 7 (A1778)           6301\n",
              "Apple iPhone Se (A1723)          5176\n",
              "Apple iPhone 8 (A1905)           4985\n",
              "Apple iPhone Xr (A2105)          4562\n",
              "Samsung Galaxy S8 (Sm-G950F)     4504\n",
              "Apple iPhone X (A1901)           3809\n",
              "Name: Handset Type, dtype: int64"
            ]
          },
          "metadata": {},
          "execution_count": 54
        }
      ]
    },
    {
      "cell_type": "code",
      "source": [
        "top_handset_manu = df['Handset Manufacturer'].value_counts().head(3)\n",
        "top_handset_manu"
      ],
      "metadata": {
        "colab": {
          "base_uri": "https://localhost:8080/"
        },
        "id": "sVHSi2danIwy",
        "outputId": "857ab731-475f-43e3-c356-b1e0044a4cab"
      },
      "execution_count": 55,
      "outputs": [
        {
          "output_type": "execute_result",
          "data": {
            "text/plain": [
              "Apple      59451\n",
              "Samsung    40689\n",
              "Huawei     34353\n",
              "Name: Handset Manufacturer, dtype: int64"
            ]
          },
          "metadata": {},
          "execution_count": 55
        }
      ]
    },
    {
      "cell_type": "code",
      "source": [
        "top_handset = df.groupby(['Handset Manufacturer'] )['Handset Type'].value_counts()\n",
        "top_handset.loc[['Apple','Samsung','Huawei']].sort_values(ascending=False).head(20)\n",
        "#top_top.groupby(['Handset Manufacturer']).head() ///,'Samsung','Huawei'"
      ],
      "metadata": {
        "colab": {
          "base_uri": "https://localhost:8080/"
        },
        "id": "VsHTsIGMnI0B",
        "outputId": "9410199d-fd3c-486a-8855-18b8511ecd7d"
      },
      "execution_count": 67,
      "outputs": [
        {
          "output_type": "execute_result",
          "data": {
            "text/plain": [
              "Handset Manufacturer  Handset Type                     \n",
              "Huawei                Huawei B528S-23A                     19752\n",
              "Apple                 Apple iPhone 6S (A1688)               9401\n",
              "                      Apple iPhone 6 (A1586)                9004\n",
              "                      Apple iPhone 7 (A1778)                6301\n",
              "                      Apple iPhone Se (A1723)               5176\n",
              "                      Apple iPhone 8 (A1905)                4985\n",
              "                      Apple iPhone Xr (A2105)               4562\n",
              "Samsung               Samsung Galaxy S8 (Sm-G950F)          4504\n",
              "Apple                 Apple iPhone X (A1901)                3809\n",
              "Samsung               Samsung Galaxy A5 Sm-A520F            3716\n",
              "                      Samsung Galaxy J5 (Sm-J530)           3689\n",
              "                      Samsung Galaxy J3 (Sm-J330)           3476\n",
              "                      Samsung Galaxy S7 (Sm-G930X)          3194\n",
              "Apple                 Apple iPhone 8 Plus (A1897)           3015\n",
              "Samsung               Samsung Galaxy A8 (2018)              2586\n",
              "Apple                 Apple iPhone 6S Plus (A1687)          2178\n",
              "Huawei                Huawei E5180                          2079\n",
              "                      Huawei P20 Lite Huawei Nova 3E        2015\n",
              "Samsung               Samsung Galaxy S7 Edge (Sm-G935X)     1957\n",
              "                      Samsung Galaxy S9 Sm-G960F Ds         1872\n",
              "Name: Handset Type, dtype: int64"
            ]
          },
          "metadata": {},
          "execution_count": 67
        }
      ]
    },
    {
      "cell_type": "code",
      "source": [
        "# top 10 customers per sessions frequency \n",
        "top_session = df.groupby(['MSISDN/Number'])['Bearer Id']\n",
        "top_session.count().head(10).sort_values(ascending=False)"
      ],
      "metadata": {
        "colab": {
          "base_uri": "https://localhost:8080/"
        },
        "id": "oBBA-CYZnI4L",
        "outputId": "2178b251-efaf-4244-baa5-f1c74ae743cc"
      },
      "execution_count": 57,
      "outputs": [
        {
          "output_type": "execute_result",
          "data": {
            "text/plain": [
              "MSISDN/Number\n",
              "3.360101e+10    2\n",
              "3.360101e+10    2\n",
              "3.360101e+10    2\n",
              "3.360101e+10    2\n",
              "3.360100e+10    1\n",
              "3.360100e+10    1\n",
              "3.360100e+10    1\n",
              "3.360101e+10    1\n",
              "3.360101e+10    1\n",
              "3.360102e+10    1\n",
              "Name: Bearer Id, dtype: int64"
            ]
          },
          "metadata": {},
          "execution_count": 57
        }
      ]
    },
    {
      "cell_type": "code",
      "source": [
        "#top 10 customers perthe duration of the session \n",
        "top_session_dur = df.groupby(['MSISDN/Number'])['Dur. (ms)']\n",
        "top_session_dur.sum().head(10).sort_values(ascending=False)\n"
      ],
      "metadata": {
        "colab": {
          "base_uri": "https://localhost:8080/"
        },
        "id": "agHXR6KoSra6",
        "outputId": "204df0db-d989-4066-b8d0-3584c2201102"
      },
      "execution_count": 58,
      "outputs": [
        {
          "output_type": "execute_result",
          "data": {
            "text/plain": [
              "MSISDN/Number\n",
              "3.360101e+10    495702.0\n",
              "3.360101e+10    253983.0\n",
              "3.360100e+10    181230.0\n",
              "3.360100e+10    134969.0\n",
              "3.360101e+10    128360.0\n",
              "3.360102e+10    124854.0\n",
              "3.360100e+10    116720.0\n",
              "3.360101e+10     86399.0\n",
              "3.360101e+10     49878.0\n",
              "3.360101e+10     37104.0\n",
              "Name: Dur. (ms), dtype: float64"
            ]
          },
          "metadata": {},
          "execution_count": 58
        }
      ]
    },
    {
      "cell_type": "code",
      "source": [
        "#top 10 customers per the sessions total traffic (download and upload (bytes))\n",
        "#top 10 customers perthe duration of the session \n",
        "top_traffic = df.groupby(['MSISDN/Number'])['total DL/UL traffic']\n",
        "top_traffic.sum().head(10).sort_values(ascending=False)"
      ],
      "metadata": {
        "id": "fei3Ec0-SrPW",
        "colab": {
          "base_uri": "https://localhost:8080/"
        },
        "outputId": "90a5864d-8488-4567-baab-51bb4c459fb6"
      },
      "execution_count": 59,
      "outputs": [
        {
          "output_type": "execute_result",
          "data": {
            "text/plain": [
              "MSISDN/Number\n",
              "3.360101e+10    1.457411e+09\n",
              "3.360101e+10    9.901322e+08\n",
              "3.360100e+10    8.786906e+08\n",
              "3.360102e+10    7.324638e+08\n",
              "3.360101e+10    6.547231e+08\n",
              "3.360101e+10    6.152172e+08\n",
              "3.360100e+10    5.959665e+08\n",
              "3.360101e+10    4.223207e+08\n",
              "3.360101e+10    3.326604e+08\n",
              "3.360100e+10    1.568596e+08\n",
              "Name: total DL/UL traffic, dtype: float64"
            ]
          },
          "metadata": {},
          "execution_count": 59
        }
      ]
    },
    {
      "cell_type": "code",
      "source": [
        "#clustering by K-mean\n",
        "cluster_data= df.groupby(['MSISDN/Number'])['Bearer Id','Dur. (ms)','total DL/UL traffic']\n",
        "cluster_data1= cluster_data"
      ],
      "metadata": {
        "colab": {
          "base_uri": "https://localhost:8080/"
        },
        "id": "wrZv1IkQbOWF",
        "outputId": "726debd1-36d7-4246-d2b0-dbac225b690f"
      },
      "execution_count": 60,
      "outputs": [
        {
          "output_type": "stream",
          "name": "stderr",
          "text": [
            "/usr/local/lib/python3.7/dist-packages/ipykernel_launcher.py:2: FutureWarning: Indexing with multiple keys (implicitly converted to a tuple of keys) will be deprecated, use a list instead.\n",
            "  \n"
          ]
        }
      ]
    },
    {
      "cell_type": "code",
      "source": [],
      "metadata": {
        "id": "sy4a1kncl-kG"
      },
      "execution_count": 60,
      "outputs": []
    },
    {
      "cell_type": "code",
      "source": [
        "import numpy as np\n",
        "import matplotlib.pyplot as plt\n",
        "import pandas as pd \n",
        "import sklearn\n",
        "from sklearn.preprocessing import LabelEncoder"
      ],
      "metadata": {
        "id": "jWZTDbJLh4Ju"
      },
      "execution_count": 61,
      "outputs": []
    },
    {
      "cell_type": "code",
      "source": [
        "lb = LabelEncoder() \n",
        "cluster_data1['Bearer Id'] = lb.fit_transform(cluster_data1['Bearer Id'])\n",
        "cluster_data1['Dur. (ms)'] = lb.fit_transform(cluster_data1['Dur. (ms)'])\n",
        "cluster_data1['total DL/UL traffic'] = lb.fit_transform(cluster_data1['total DL/UL traffic'])"
      ],
      "metadata": {
        "id": "SZqDUPw9inln"
      },
      "execution_count": null,
      "outputs": []
    }
  ]
}